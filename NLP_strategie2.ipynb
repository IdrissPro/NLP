{
  "nbformat": 4,
  "nbformat_minor": 0,
  "metadata": {
    "colab": {
      "private_outputs": true,
      "provenance": []
    },
    "kernelspec": {
      "name": "python3",
      "display_name": "Python 3"
    },
    "language_info": {
      "name": "python"
    }
  },
  "cells": [
    {
      "cell_type": "markdown",
      "source": [],
      "metadata": {
        "id": "4handa_9_ruK"
      }
    },
    {
      "cell_type": "code",
      "source": [
        "import numpy as np\n",
        "import pandas as pd\n",
        "import seaborn as sns\n",
        "import sklearn as skl\n",
        "import matplotlib.pyplot as plt"
      ],
      "metadata": {
        "id": "RIb3C3Lq_tQS"
      },
      "execution_count": null,
      "outputs": []
    },
    {
      "cell_type": "code",
      "source": [
        "data=pd.read_csv('actu_finance.csv')\n",
        "data.head()\n",
        "data.describe()\n"
      ],
      "metadata": {
        "id": "OZgSD0kxAU2U"
      },
      "execution_count": null,
      "outputs": []
    },
    {
      "cell_type": "code",
      "source": [
        "data['Unnamed: 0']=pd.to_datetime(data['Unnamed: 0'])\n",
        "data.sort_values('Unnamed: 0')\n",
        "data.set_index('Unnamed: 0',inplace=True)\n",
        "data.head()"
      ],
      "metadata": {
        "id": "q-5NsPjgAt_U"
      },
      "execution_count": null,
      "outputs": []
    },
    {
      "cell_type": "code",
      "source": [
        "sns.pairplot(data, hue='Unnamed: 0')"
      ],
      "metadata": {
        "id": "TIe1al8EBMlx"
      },
      "execution_count": null,
      "outputs": []
    },
    {
      "cell_type": "markdown",
      "source": [
        "## on retient 5n actifs"
      ],
      "metadata": {
        "id": "fmuzetX1BaD4"
      }
    },
    {
      "cell_type": "code",
      "source": [
        "data.info()"
      ],
      "metadata": {
        "id": "hGgBGW-nBYT9"
      },
      "execution_count": null,
      "outputs": []
    },
    {
      "cell_type": "code",
      "source": [
        "data.replace(\"NR\", np.nan, inplace=True)\n",
        "print(\"Pourcentages indisponibles par colones\")\n",
        "\n",
        "print(100*data[[col for col in data.columns if col.endswith('_ACTU')]].isna().sum()/data.shape[0])\n",
        "\n",
        "print(\"Nombre d'actu indisponibles au total\")\n",
        "print(data.isna().sum().sum())"
      ],
      "metadata": {
        "id": "BmeKpxHdBrlu"
      },
      "execution_count": null,
      "outputs": []
    },
    {
      "cell_type": "code",
      "source": [
        "# dic={}\n",
        "# for col in data.columns[:8]:\n",
        "#   if col.endswith('_ACTU'):\n",
        "#     dic[f\"{col.split('_')[0]}\"]=data[[f\"{col}\", f\"{col.split('_')[0]}_RDMT_5\"]].dropna()\n",
        "\n",
        "dic={}\n",
        "for col in data.columns[:8]:\n",
        "  if col.endswith('_ACTU'):\n",
        "    dic[f\"{col.split('_')[0]}\"]=data[[f\"{col}\", f\"{col.split('_')[0]}_RDMT_5\"]].dropna()\n",
        "    dic[f\"{col.split('_')[0]}\"].columns=['ACTU', 'RDMT']\n",
        "\n",
        "for key, value in dic.items():\n",
        "  print('Statistiques descriptives pour ',key)\n",
        "  print(value.describe(include=[object]))\n",
        "  print(value.describe(exclude=[object]))\n",
        "  print('-----------------------------------------------------------------------'*2)\n",
        "  print('\\n')\n"
      ],
      "metadata": {
        "id": "vwzK8dZJDRFu"
      },
      "execution_count": null,
      "outputs": []
    },
    {
      "cell_type": "code",
      "source": [
        "#dic['BNP']\n",
        "rest=pd.concat([dic['BNP'], dic['AIR']])\n",
        "rest.dropna().head()\n",
        "\n",
        "dic['BNP'].iloc[:,1:2].groupby(dic['BNP'].index.year).count()\n",
        "\n",
        "for key,value in dic.items():\n",
        "  print(\"Nombre d'actualité par année\")\n",
        "  print(value.iloc[:,1:2].groupby(value.index.year).count())\n",
        "  print('-'*100)\n",
        "  print('\\n')"
      ],
      "metadata": {
        "id": "mQeM0m_vExmA"
      },
      "execution_count": null,
      "outputs": []
    },
    {
      "cell_type": "code",
      "source": [
        "tab=[value for key, value in dic.items()]\n",
        "df=pd.concat(tab, axis=0).reset_index()\n",
        "df.rename(columns={'Unnamed: 0':'Date'}, inplace=True)\n",
        "df.set_index('Date', inplace=True)\n",
        "#df.dropna().head()\n",
        "df.head()"
      ],
      "metadata": {
        "id": "e-xZWfbcPik0"
      },
      "execution_count": null,
      "outputs": []
    },
    {
      "cell_type": "code",
      "source": [
        "q20=df['RDMT'].quantile(0.2)\n",
        "print(q20)\n",
        "df['Y']=df['RDMT'].apply(lambda x: 1 if x<q20 else 0)\n",
        "print(df.head())"
      ],
      "metadata": {
        "id": "D8JaECGdB5Qu"
      },
      "execution_count": null,
      "outputs": []
    },
    {
      "cell_type": "code",
      "source": [
        "from sentence_transformers import SentenceTransformer\n",
        "model=SentenceTransformer(\"all-MiniLM-L6-v2\")\n",
        "\n",
        "#embeddings=model.encode()\n",
        "df['ACTU_EMB'] = df['ACTU'].astype(str).apply(lambda x: model.encode(x))\n",
        "df.head()"
      ],
      "metadata": {
        "id": "QmwHSXb4DTl5"
      },
      "execution_count": null,
      "outputs": []
    },
    {
      "cell_type": "code",
      "source": [
        "import numpy as np\n",
        "\n",
        "# Extraction des features X et de la cible Y\n",
        "X = np.stack(df['ACTU_EMB'].values)\n",
        "y = df['Y'].values\n",
        "\n",
        "df_train = df[df.index.year < 2023]\n",
        "df_test = df[df.index.year == 2023]\n",
        "\n",
        "X_train = np.stack(df_train['ACTU_EMB'].values)\n",
        "y_train = df_train['Y'].values\n",
        "\n",
        "X_test = np.stack(df_test['ACTU_EMB'].values)\n",
        "y_test = df_test['Y'].values\n"
      ],
      "metadata": {
        "id": "hrweQI35HId7"
      },
      "execution_count": null,
      "outputs": []
    },
    {
      "cell_type": "markdown",
      "source": [
        "## Neural network"
      ],
      "metadata": {
        "id": "lwzhzwOoHm2k"
      }
    },
    {
      "cell_type": "code",
      "source": [
        "from tensorflow.keras.models import Sequential\n",
        "from tensorflow.keras.layers import Dense, Dropout\n",
        "from tensorflow.keras.optimizers import Adam\n",
        "\n",
        "model = Sequential([\n",
        "    Dense(128, activation='relu', input_shape=(X_train.shape[1],)),\n",
        "    Dropout(0.2),\n",
        "    Dense(64, activation='relu'),\n",
        "    Dense(1, activation='sigmoid')  # binaire\n",
        "])\n",
        "\n",
        "model.compile(optimizer=Adam(0.001), loss='binary_crossentropy', metrics=['accuracy'])\n",
        "model.fit(X_train, y_train, epochs=20, batch_size=32, validation_split=0.2)"
      ],
      "metadata": {
        "id": "kglB7zFWHpEy"
      },
      "execution_count": null,
      "outputs": []
    },
    {
      "cell_type": "code",
      "source": [
        "from sklearn.metrics import f1_score, precision_score, recall_score\n",
        "\n",
        "y_pred_prob = model.predict(X_test)\n",
        "y_pred = (y_pred_prob > 0.5).astype(int)\n",
        "\n",
        "print(\"F1 Score :\", f1_score(y_test, y_pred))\n",
        "print(\"Précision :\", precision_score(y_test, y_pred))\n",
        "print(\"Recall :\", recall_score(y_test, y_pred))\n"
      ],
      "metadata": {
        "id": "DBU4Itt-Is3h"
      },
      "execution_count": null,
      "outputs": []
    },
    {
      "cell_type": "code",
      "source": [
        "df.to_csv('actu_finance_emb.csv')"
      ],
      "metadata": {
        "id": "BnxrB_nJI-du"
      },
      "execution_count": null,
      "outputs": []
    }
  ]
}